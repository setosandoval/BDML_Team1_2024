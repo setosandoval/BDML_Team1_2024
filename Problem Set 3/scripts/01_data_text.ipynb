{
 "cells": [
  {
   "cell_type": "markdown",
   "metadata": {},
   "source": [
    "# Text as Data"
   ]
  },
  {
   "cell_type": "markdown",
   "metadata": {},
   "source": [
    "## Libraries"
   ]
  },
  {
   "cell_type": "code",
   "execution_count": 7,
   "metadata": {},
   "outputs": [],
   "source": [
    "# Importing necessary libraries\n",
    "import os\n",
    "import pandas as pd\n",
    "import numpy as np\n",
    "\n",
    "# DNP Contexto\n",
    "from contexto.limpieza import *  # Custom cleaning methods (assumes a specific library)\n",
    "\n",
    "# Text preprocessing and categorical encoding\n",
    "from sklearn.feature_extraction.text import CountVectorizer  # Bag of Words model\n",
    "from sklearn.preprocessing import LabelEncoder  # Encoding categorical variables\n",
    "\n",
    "# Natural Language Processing\n",
    "import spacy  # Lemmatization\n",
    "\n",
    "# Dimensionality reduction\n",
    "from sklearn.decomposition import PCA  # Principal Component Analysis\n",
    "from sklearn.preprocessing import StandardScaler  # Standardizing features\n",
    "\n",
    "# Model evaluation and training\n",
    "import xgboost as xgb # XGBoost model\n",
    "from sklearn.model_selection import train_test_split  # Splitting datasets\n",
    "from sklearn.linear_model import LinearRegression, ElasticNet  # Regression models\n",
    "from sklearn.metrics import mean_absolute_error  # Performance evaluation metric\n",
    "\n",
    "# Graphs\n",
    "import matplotlib.pyplot as plt"
   ]
  },
  {
   "cell_type": "markdown",
   "metadata": {},
   "source": [
    "## Data Loading"
   ]
  },
  {
   "cell_type": "code",
   "execution_count": 8,
   "metadata": {},
   "outputs": [],
   "source": [
    "# Directory\n",
    "os.chdir(\"/Users/sergiosandovalcamargo/Desktop/Problem Set 3\")  \n",
    "\n",
    "# Train and test data\n",
    "train = pd.read_csv(\"stores/data/raw/train_test/train.csv\") \n",
    "test = pd.read_csv(\"stores/data/raw/train_test/test.csv\") "
   ]
  },
  {
   "cell_type": "code",
   "execution_count": 1,
   "metadata": {},
   "outputs": [
    {
     "ename": "NameError",
     "evalue": "name 'train' is not defined",
     "output_type": "error",
     "traceback": [
      "\u001b[0;31m---------------------------------------------------------------------------\u001b[0m",
      "\u001b[0;31mNameError\u001b[0m                                 Traceback (most recent call last)",
      "Cell \u001b[0;32mIn[1], line 2\u001b[0m\n\u001b[1;32m      1\u001b[0m \u001b[38;5;66;03m# Combined data \u001b[39;00m\n\u001b[0;32m----> 2\u001b[0m \u001b[43mtrain\u001b[49m[\u001b[38;5;124m'\u001b[39m\u001b[38;5;124mis_test\u001b[39m\u001b[38;5;124m'\u001b[39m] \u001b[38;5;241m=\u001b[39m \u001b[38;5;241m0\u001b[39m  \n\u001b[1;32m      3\u001b[0m test[\u001b[38;5;124m'\u001b[39m\u001b[38;5;124mis_test\u001b[39m\u001b[38;5;124m'\u001b[39m] \u001b[38;5;241m=\u001b[39m \u001b[38;5;241m1\u001b[39m   \n\u001b[1;32m      4\u001b[0m data \u001b[38;5;241m=\u001b[39m pd\u001b[38;5;241m.\u001b[39mconcat([train, test], ignore_index\u001b[38;5;241m=\u001b[39m\u001b[38;5;28;01mTrue\u001b[39;00m)\n",
      "\u001b[0;31mNameError\u001b[0m: name 'train' is not defined"
     ]
    }
   ],
   "source": [
    "# Combined data \n",
    "train['is_test'] = 0  \n",
    "test['is_test'] = 1   \n",
    "data = pd.concat([train, test], ignore_index=True)"
   ]
  },
  {
   "cell_type": "markdown",
   "metadata": {},
   "source": [
    "## Clean Text"
   ]
  },
  {
   "cell_type": "markdown",
   "metadata": {},
   "source": [
    "### Normalization, Stop Words and Lemmatization"
   ]
  },
  {
   "cell_type": "code",
   "execution_count": 10,
   "metadata": {},
   "outputs": [],
   "source": [
    "# Spanish stop words: 608\n",
    "with open('stores/data/raw/external/spanish.txt', 'r', encoding='utf-8') as file:\n",
    "    stopwords = {line.strip() for line in file}\n",
    "\n",
    "# Additional Stop words \n",
    "additional_stopwords = ['vendo', 'venta', 'vende', 'etc', 'carrera', 'calle', 'casa', 'apto', 'apartamento',\n",
    "                        'propiedad', 'venta', 'inmueble', 'cuarto', 'habitacion', 'excelente', 'ubicado', 'area',\n",
    "                        'espectacular', 'magnifico', 'muy', 'vivienda', 'piso', 'alcoba', 'bano', 'bao', 'via', 'mas',\n",
    "                        'consta', 'bogota', 'santa', 'mts', 'metro']\n",
    "\n",
    "stopwords.update(additional_stopwords)"
   ]
  },
  {
   "cell_type": "code",
   "execution_count": 11,
   "metadata": {},
   "outputs": [],
   "source": [
    "# Spacy model\n",
    "nlp = spacy.load('es_core_news_sm', disable=['parser', 'ner'])\n",
    "\n",
    "# Clean text function\n",
    "def clean_text(text):\n",
    "    if pd.isnull(text):  # Manejo de valores nulos\n",
    "        return \"\"\n",
    "    else:\n",
    "        # First cleaning filter\n",
    "        text_clean = limpieza_texto(text, quitar_acentos=True, n_min=3, lista_palabras=stopwords)\n",
    "        \n",
    "        # Lemmatization\n",
    "        doc = nlp(text_clean)\n",
    "        text_clean = ' '.join(token.lemma_ for token in doc)\n",
    "\n",
    "        # Remove plural 's\n",
    "        text_clean = re.sub(r'\\b(\\w+)s\\b', r'\\1', text_clean)\n",
    "        \n",
    "        # Second cleaning filter\n",
    "        text_clean = limpieza_texto(text_clean, quitar_acentos=True, n_min=3, lista_palabras=stopwords)\n",
    "        \n",
    "        return text_clean"
   ]
  },
  {
   "cell_type": "code",
   "execution_count": 12,
   "metadata": {},
   "outputs": [],
   "source": [
    "# Apply function\n",
    "data['cleaned_text'] = data['description'].apply(clean_text)"
   ]
  }
 ],
 "metadata": {
  "kernelspec": {
   "display_name": "Python 3",
   "language": "python",
   "name": "python3"
  },
  "language_info": {
   "codemirror_mode": {
    "name": "ipython",
    "version": 3
   },
   "file_extension": ".py",
   "mimetype": "text/x-python",
   "name": "python",
   "nbconvert_exporter": "python",
   "pygments_lexer": "ipython3",
   "version": "3.9.20"
  }
 },
 "nbformat": 4,
 "nbformat_minor": 2
}
